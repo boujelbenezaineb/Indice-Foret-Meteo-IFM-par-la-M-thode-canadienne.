{
 "cells": [
  {
   "cell_type": "markdown",
   "metadata": {
    "id": "s4S9vP4mO80t"
   },
   "source": [
    "**Importation des Bibliothèques**"
   ]
  },
  {
   "cell_type": "code",
   "execution_count": 1,
   "metadata": {
    "id": "xaI0zCLn461l"
   },
   "outputs": [],
   "source": [
    "import numpy as np\n",
    "import pandas as pd\n",
    "import math\n",
    "import os.path\n",
    "from os import walk\n",
    "import ntpath\n",
    "from numpy import array\n",
    "import matplotlib.pyplot as plt\n",
    "import seaborn as sns\n",
    "import datetime"
   ]
  },
  {
   "cell_type": "markdown",
   "metadata": {
    "id": "GtW1O_LlPUrr"
   },
   "source": [
    "**Résumé**"
   ]
  },
  {
   "cell_type": "markdown",
   "metadata": {
    "id": "DHlhSJKWPaKC"
   },
   "source": [
    "Les fonctions de IFM:\n",
    "\n",
    "ICL prend la température, l'humidité relative, la vitesse du vent, la pluie et une valeur ICL précédente pour produire la valeur ICL actuelle\n",
    "   - ICL(17,42,25,0,85) = 87.692980092774448\n",
    "\n",
    "IH prend la température, l'humidité relative, les précipitations, la valeur IH précédente, la latitude et le mois en cours pour produire la valeur IH actuelle\n",
    "    - IH(17,42,0,6,45.98,4) = 8.5450511359999997\n",
    "\n",
    "IS prend la température, la pluie, la valeur IS précédente, la latitude et le mois en cours pour produire la valeur IS actuelle\n",
    "   - IS(17,0,15,45.98,4) = 19.013999999999999\n",
    "\n",
    "IPI prend la vitesse du vent et la valeur ICL actuelle pour produire la valeur IPI actuelle\n",
    "   - IPI(25,87.692980092774448) = 10.853661073655068\n",
    "\n",
    "ICD prend les valeurs IH et IS actuelles pour produire la valeur ICD actuelle\n",
    "   - ICD(8.5450511359999997,19.013999999999999) = 8.4904265358371838\n",
    "\n",
    "IFM prend les valeurs IPI et ICD actuelles pour produire la valeur IFM actuelle\n",
    "   - IFM(10.853661073655068,8.4904265358371838) = 10.096371392382368\n",
    "\n",
    "calcIFM - cette fonction renvoie la valeur IFM actuelle en fonction de toutes les valeurs d'entrée : mois, température, humidité relative, vitesse du vent, pluie, ICL précédent, IH, IS et latitude\n",
    "   - calcIFM(4,17,42,25,0,85,6,15,45.98) = 10.096371392382368"
   ]
  },
  {
   "cell_type": "code",
   "execution_count": 2,
   "metadata": {
    "id": "_ML0_jJB80t_"
   },
   "outputs": [],
   "source": [
    "class InvalidLatitude(Exception):\n",
    "    \"\"\"Exception pour gérer les variables non couvertes par DataDict\"\"\"\n",
    "    def __init__(self, value):\n",
    "        self.value = value\n",
    "    def __str__(self):\n",
    "        return repr(self.value) + \" n'est pas une latitude valide.\""
   ]
  },
  {
   "cell_type": "markdown",
   "metadata": {
    "id": "z_enxlbhPrqa"
   },
   "source": [
    "**Calcul de l'Indice du Combustible Leger**"
   ]
  },
  {
   "cell_type": "code",
   "execution_count": 3,
   "metadata": {},
   "outputs": [],
   "source": [
    "def ICLF(T,H,FF,RR,mo):\n",
    "    H = min(100.0,H)\n",
    "    if RR > 0.5:\n",
    "        rf = RR - 0.5\n",
    "\n",
    "        if mo <= 150.0: \n",
    "            mr = mo + \\\n",
    "                 42.5 * rf * math.exp(-100.0 / (250.0 - mo)) * (1.0-math.exp(-6.93 / rf))\n",
    "        else:\n",
    "\n",
    "            mr = mo + \\\n",
    "                 42.5 * rf * math.exp(-100.0 / (251.0 - mo)) * (1.0-math.exp(-6.93 / rf)) + \\\n",
    "                 0.0015 * pow(mo - 150.0, 2) * pow(rf, 0.5)\n",
    "\n",
    "        if mr > 250.0:\n",
    "            mr = 250.0\n",
    "\n",
    "        mo=mr\n",
    "\n",
    "    ed = 0.942 * pow(H, 0.679) + \\\n",
    "         11.0 * math.exp((H - 100.0) / 10.0) + 0.18 * (21.1 - T) * (1.0 - math.exp(-0.115 * H))\n",
    "\n",
    "    if mo > ed:\n",
    "        ko = 0.424 * (1.0 - pow(H / 100.0, 1.7)) + \\\n",
    "             0.0694 * pow(FF, 0.5) * (1.0 - pow(H / 100.0, 8))\n",
    "\n",
    "        kd = ko * 0.581 * math.exp(0.0365 * T)\n",
    "\n",
    "        m = ed + (mo - ed) * pow(10.0,-kd)\n",
    "\n",
    "    else:\n",
    "        ew = 0.618 * pow(H,0.753) + \\\n",
    "             10.0 * math.exp((H - 100.0) / 10.0) + \\\n",
    "             0.18 * (21.1 - T) * (1.0 - math.exp(-0.115 * H))\n",
    "        if mo < ew:\n",
    "            k1 = 0.424 * (1.0 - pow((100.0 - H) / 100.0, 1.7)) + \\\n",
    "                 0.0694 * pow(FF, 0.5) * (1.0 - pow((100.0 - H) / 100.0, 8))\n",
    "\n",
    "            kw = k1 * 0.581 * math.exp(0.0365 * T)\n",
    "\n",
    "\n",
    "            m = ew - (ew - mo) * pow(10.0, -kw)\n",
    "        else:\n",
    "            m = mo\n",
    "    return m"
   ]
  },
  {
   "cell_type": "code",
   "execution_count": 4,
   "metadata": {
    "id": "lM3D47RS80ql"
   },
   "outputs": [],
   "source": [
    "def ICL(T,H,FF,RR,mo):\n",
    "    '''Calcule le code d'humidité du carburant fin d'aujourd'hui\n",
    "    PARAMETRES\n",
    "    ----------\n",
    "    * T est la température de 12:00 LST en degrés Celsius\n",
    "    * H est l'humidité relative de 12:00 LST en %\n",
    "    * FF est la vitesse du vent à 12:00 LST en km/h\n",
    "    * RR est la pluie cumulée sur 24 heures en mm, calculée à 12:00 LST\n",
    "    * m0 est une valeur indiquée dans la base de données'''\n",
    "    \n",
    "    H = min(100.0,H)\n",
    "    if RR > 0.5:\n",
    "        rf = RR - 0.5\n",
    "\n",
    "        if mo <= 150.0: \n",
    "            mr = mo + \\\n",
    "                 42.5 * rf * math.exp(-100.0 / (250.0 - mo)) * (1.0-math.exp(-6.93 / rf))\n",
    "        else:\n",
    "\n",
    "            mr = mo + \\\n",
    "                 42.5 * rf * math.exp(-100.0 / (251.0 - mo)) * (1.0-math.exp(-6.93 / rf)) + \\\n",
    "                 0.0015 * pow(mo - 150.0, 2) * pow(rf, 0.5)\n",
    "\n",
    "        if mr > 250.0:\n",
    "            mr = 250.0\n",
    "\n",
    "        mo=mr\n",
    "\n",
    "    ed = 0.942 * pow(H, 0.679) + \\\n",
    "         11.0 * math.exp((H - 100.0) / 10.0) + 0.18 * (21.1 - T) * (1.0 - math.exp(-0.115 * H))\n",
    "\n",
    "    if mo > ed:\n",
    "        ko = 0.424 * (1.0 - pow(H / 100.0, 1.7)) + \\\n",
    "             0.0694 * pow(FF, 0.5) * (1.0 - pow(H / 100.0, 8))\n",
    "\n",
    "        kd = ko * 0.581 * math.exp(0.0365 * T)\n",
    "\n",
    "        m = ed + (mo - ed) * pow(10.0,-kd)\n",
    "\n",
    "    else:\n",
    "        ew = 0.618 * pow(H,0.753) + \\\n",
    "             10.0 * math.exp((H - 100.0) / 10.0) + \\\n",
    "             0.18 * (21.1 - T) * (1.0 - math.exp(-0.115 * H))\n",
    "        if mo < ew:\n",
    "            k1 = 0.424 * (1.0 - pow((100.0 - H) / 100.0, 1.7)) + \\\n",
    "                 0.0694 * pow(FF, 0.5) * (1.0 - pow((100.0 - H) / 100.0, 8))\n",
    "\n",
    "            kw = k1 * 0.581 * math.exp(0.0365 * T)\n",
    "\n",
    "\n",
    "            m = ew - (ew - mo) * pow(10.0, -kw)\n",
    "        else:\n",
    "            m = mo\n",
    "    return 59.9 * (250.0 - m) / (147.2 + m)"
   ]
  },
  {
   "cell_type": "code",
   "execution_count": 5,
   "metadata": {
    "id": "K698apbdpF7l"
   },
   "outputs": [],
   "source": [
    "\"\"\" DayLength calcule la longueur du jour (le temps entre le lever du soleil et coucher du soleil) compte tenu du jour de l'année et de la latitude du lieu.\"\"\"\n",
    "def DayLength(MONTH):\n",
    "    '''Estimation de la durée du jour en fonction du mois et de la latitude'''\n",
    "    LeN= {'1': 6.5, '2': 7.5 , '3': 9.0, '4':12.8 , '5':13.9, '6':13.9, '7':12.4, '8':10.9, '9':9.4,'10':8.0, '11':7.0, '12':6.0}\n",
    "    return LeN.get(str(MONTH))"
   ]
  },
  {
   "cell_type": "code",
   "execution_count": 6,
   "metadata": {},
   "outputs": [
    {
     "data": {
      "text/plain": [
       "'retVal = None\\n\\n    if Latitude<= 90 and Latitude > 33:\\n        retVal = DayLength46N[MONTH-1]\\n    elif Latitude <= 33 and Latitude > 0.0:\\n        retVal = DayLength20N[MONTH-1]\\n    elif Latitude <= 0.0 and Latitude > -30.0:\\n        retVal = DayLength20S[MONTH-1]\\n    elif Latitude <= -30.0 and Latitude >= -90.0:\\n        retVal = DayLength40S[MONTH-1]\\n\\n    if retVal==None:\\n        raise InvalidLatitude(Latitude)'"
      ]
     },
     "execution_count": 6,
     "metadata": {},
     "output_type": "execute_result"
    }
   ],
   "source": [
    "\"\"\" DayLength46N = [ 6.5,  7.5,  9.0, 12.8, 13.9, 13.9, 12.4, 10.9,  9.4,  8.0,  7.0,  6.0]\n",
    "    DayLength20N = [ 7.9,  8.4,  8.9,  9.5,  9.9, 10.2, 10.1,  9.7,  9.1,  8.6,  8.1,  7.8]\n",
    "    DayLength20S = [10.1,  9.6,  9.1,  8.5,  8.1,  7.8,  7.9,  8.3,  8.9,  9.4,  9.9, 10.2]\n",
    "    DayLength40S = [11.5, 10.5,  9.2,  7.9,  6.8,  6.2,  6.5,  7.4,  8.7, 10.0, 11.2, 11.8]\"\"\"\n",
    "\n",
    "\"\"\"retVal = None\n",
    "\n",
    "    if Latitude<= 90 and Latitude > 33:\n",
    "        retVal = DayLength46N[MONTH-1]\n",
    "    elif Latitude <= 33 and Latitude > 0.0:\n",
    "        retVal = DayLength20N[MONTH-1]\n",
    "    elif Latitude <= 0.0 and Latitude > -30.0:\n",
    "        retVal = DayLength20S[MONTH-1]\n",
    "    elif Latitude <= -30.0 and Latitude >= -90.0:\n",
    "        retVal = DayLength40S[MONTH-1]\n",
    "\n",
    "    if retVal==None:\n",
    "        raise InvalidLatitude(Latitude)\"\"\""
   ]
  },
  {
   "cell_type": "markdown",
   "metadata": {
    "id": "3PinyuoeP1mi"
   },
   "source": [
    "**Calcul de l'Indice de l'Humus**"
   ]
  },
  {
   "cell_type": "code",
   "execution_count": 7,
   "metadata": {},
   "outputs": [],
   "source": [
    "def IHF(H,RR,mo,IHPrev):\n",
    "    H = min(100.0,H)\n",
    "    if RR > 1.5:\n",
    "        re = 0.92 * RR - 1.27\n",
    "        if IHPrev <= 33.0:\n",
    "            b = 100.0 / (0.5 + 0.3 * IHPrev)\n",
    "        else:\n",
    "            if IHPrev <= 65.0:\n",
    "                b = 14.0 - 1.3 * math.log(IHPrev)\n",
    "            else:\n",
    "                b = 6.2 * math.log(IHPrev) - 17.2\n",
    "        mr = mo + 1000.0 * re / (48.77 + b * re)\n",
    "    else:\n",
    "        mr=mo\n",
    "    return mr"
   ]
  },
  {
   "cell_type": "code",
   "execution_count": 8,
   "metadata": {
    "id": "MPWEyN5P80oZ"
   },
   "outputs": [],
   "source": [
    "def IH(T,H,RR,mo,IHPrev,MONTH):\n",
    "    ''' Calcule le code d'humidité Duff d'aujourd'hui\n",
    "    PARAMÈTRES\n",
    "    ----------\n",
    "    * T est la température de 12:00 LST en degrés Celsius\n",
    "    * H est l'humidité relative de 12:00 LST en %\n",
    "    * RR est la pluviométrie cumulée sur 24 heures en mm, calculée à 12h00 LST\n",
    "    * IHPrev est l'IH de la veille\n",
    "    * Month est le mois de l'année (1..12) pour les calculs du jour en cours.'''\n",
    "\n",
    "    H = min(100.0,H)\n",
    "    if RR > 1.5:\n",
    "        re = 0.92 * RR - 1.27\n",
    "        if IHPrev <= 33.0:\n",
    "            b = 100.0 / (0.5 + 0.3 * IHPrev)\n",
    "        else:\n",
    "            if IHPrev <= 65.0:\n",
    "                b = 14.0 - 1.3 * math.log(IHPrev)\n",
    "            else:\n",
    "                b = 6.2 * math.log(IHPrev) - 17.2\n",
    "        \n",
    "        mr = mo + 1000.0 * re / (48.77 + b * re)\n",
    "        \n",
    "        pr = 244.72 - 43.43 * math.log(mr - 20.0)\n",
    "\n",
    "        if pr > 0.0:\n",
    "            IHPrev = pr\n",
    "        else:\n",
    "            IHPrev = 0.0\n",
    "    else:\n",
    "        mr=mo\n",
    "    if T > -1.1:\n",
    "        d1 = DayLength(MONTH)\n",
    "        k = 1.894 * (T + 1.1) * (100.0 - H) * d1 * 0.000001\n",
    "\n",
    "    else:\n",
    "        k = 0.0\n",
    "\n",
    "    return IHPrev + 100.0 * k"
   ]
  },
  {
   "cell_type": "code",
   "execution_count": 9,
   "metadata": {
    "id": "DpqdL-4xpF-Z"
   },
   "outputs": [],
   "source": [
    "def DryingFactor(Month):\n",
    "    '''Estimation de la durée du jour en fonction du mois'''\n",
    "    LfN= {'1': -1.6, '2': -1.6 , '3':-1.6, '4':0.9 , '5':3.8, '6':5.8, '7':6.4, '8':5.0, '9':2.4,'10':0.4, '11':-1.6, '12':-1.6}\n",
    "    return LfN.get(str(Month))"
   ]
  },
  {
   "cell_type": "code",
   "execution_count": 10,
   "metadata": {},
   "outputs": [
    {
     "data": {
      "text/plain": [
       "'LfN = [-1.6, -1.6, -1.6, 0.9, 3.8, 5.8, 6.4, 5.0, 2.4, 0.4, -1.6, -1.6]\\n\\nLfS = [6.4, 5.0, 2.4, 0.4, -1.6, -1.6, -1.6, -1.6, -1.6, 0.9, 3.8, 5.8]\\n\\n if Latitude > 0:\\n        retVal = LfN[Month]\\n    elif Latitude <= 0.0:\\n        retVal = LfS[Month]\\n\\n    return retVal'"
      ]
     },
     "execution_count": 10,
     "metadata": {},
     "output_type": "execute_result"
    }
   ],
   "source": [
    "\"\"\"LfN = [-1.6, -1.6, -1.6, 0.9, 3.8, 5.8, 6.4, 5.0, 2.4, 0.4, -1.6, -1.6]\n",
    "\n",
    "LfS = [6.4, 5.0, 2.4, 0.4, -1.6, -1.6, -1.6, -1.6, -1.6, 0.9, 3.8, 5.8]\n",
    "\n",
    " if Latitude > 0:\n",
    "        retVal = LfN[Month]\n",
    "    elif Latitude <= 0.0:\n",
    "        retVal = LfS[Month]\n",
    "\n",
    "    return retVal\"\"\""
   ]
  },
  {
   "cell_type": "markdown",
   "metadata": {
    "id": "c6Tewm4pP6ti"
   },
   "source": [
    "**Calcul de l'Indice de Sécheresse**"
   ]
  },
  {
   "cell_type": "code",
   "execution_count": 11,
   "metadata": {},
   "outputs": [],
   "source": [
    "def ISF(RR,Q0):\n",
    "    if RR > 2.8:\n",
    "        rd = 0.83 * RR - 1.27\n",
    "        Qr = Q0 + 3.94 * rd\n",
    "    else:\n",
    "        Qr = Q0 + 3.94 * (-1.27)\n",
    "    return Qr"
   ]
  },
  {
   "cell_type": "code",
   "execution_count": 12,
   "metadata": {
    "id": "JOGexaEP80l4"
   },
   "outputs": [],
   "source": [
    "def IS(T,RR,Q0,Month):\n",
    "    \"\"\"Calcule les paramètres du code de sécheresse d'aujourd'hui\n",
    "    PARAMÈTRES\n",
    "    ----------\n",
    "    T est la température de 12:00 LST en degrés Celsius\n",
    "    RR est la pluviométrie cumulée sur 24 heures en mm, calculée à 12h00 LST\n",
    "    IS0 est le IS initial\n",
    "    LAT est la latitude en degrés décimaux de l'emplacement pour lequel les calculs sont effectués\n",
    "    MONTH est le mois de l'année (1..12) pour les calculs du jour en cours\"\"\"   \n",
    "    if RR > 2.8:\n",
    "        rd = 0.83 * RR - 1.27\n",
    "        Qr = Q0 + 3.94 * rd\n",
    "        IS0 = 400.0 * math.log(800.0 / Qr)\n",
    "    else:\n",
    "        Qr = Q0\n",
    "        IS0 = 400.0 * math.log(800.0 / Qr)\n",
    "        \n",
    "    Lf = DryingFactor(Month) #a verifier que month-1 dans DryingFactor\n",
    "    if T > -2.8:\n",
    "        V = 0.36 * (T+2.8) + Lf\n",
    "        IS0= 0.0\n",
    "    else:\n",
    "        V = Lf\n",
    "        if V < 0.0:\n",
    "            V = 0.0\n",
    "        IS0=0.0\n",
    "        \n",
    "    S = IS0 + 0.5 * V\n",
    "\n",
    "    return S"
   ]
  },
  {
   "cell_type": "markdown",
   "metadata": {
    "id": "t_UBIVrYP-rR"
   },
   "source": [
    "**Calcul de l'Indice de Propagation Initiale**"
   ]
  },
  {
   "cell_type": "code",
   "execution_count": 13,
   "metadata": {
    "id": "aprbu-f_80f8"
   },
   "outputs": [],
   "source": [
    "def IPI(FF,ICL):\n",
    "    '''Calcule l'indice de propagation initial d'aujourd'hui\n",
    "    PARAMÈTRES\n",
    "    ----------\n",
    "    FF est la vitesse du vent à 12:00 LST en km/h\n",
    "    ICL est le FFMC du jour'''\n",
    "\n",
    "    fF0 = math.exp(0.05039 * FF)\n",
    "\n",
    "    m = 147.2 * (101.0 - ICL) / (59.5 + ICL)\n",
    "\n",
    "    fF1 = 91.9 * math.exp(-0.1386 * m) * (1.0 + pow(m, 5.31) / 49300000.0)\n",
    "\n",
    "    return 0.208 * fF0 * fF1 "
   ]
  },
  {
   "cell_type": "markdown",
   "metadata": {
    "id": "0vB344lVQCyl"
   },
   "source": [
    "**Calcul de l'Indice de Combustible Disponible**"
   ]
  },
  {
   "cell_type": "code",
   "execution_count": 14,
   "metadata": {
    "id": "aXp5xQlmpGD1"
   },
   "outputs": [],
   "source": [
    "def ICD(IH,IS):\n",
    "    '''Calcule l'indice d'accumulation d'aujourd'hui\n",
    "    PARAMÈTRES\n",
    "    ----------\n",
    "    IH est le code d'humidité Duff du jour en cours\n",
    "    IS est le code de sécheresse du jour en cours'''\n",
    "\n",
    "    if IH <= 0.4 * IS:\n",
    "        U = 0.8 * IH * IS / (IH + 0.4 * IS)\n",
    "    else:\n",
    "        U = IH - (1.0 - 0.8 * IS / (IH + 0.4 * IS)) * \\\n",
    "            (0.92 + pow(0.0114 * IH, 1.7))\n",
    "\n",
    "    return max(U,0.0)"
   ]
  },
  {
   "cell_type": "markdown",
   "metadata": {
    "id": "wx_fDDcVQOPW"
   },
   "source": [
    "**Calcul de l'Indice Foret Météo**"
   ]
  },
  {
   "cell_type": "code",
   "execution_count": 15,
   "metadata": {
    "id": "Nh8_YtuFpGBX"
   },
   "outputs": [],
   "source": [
    "def IFM(IPI, ICD):\n",
    "    '''Calcule l'indice météo d'incendie d'aujourd'hui\n",
    "    PARAMÈTRES\n",
    "    ----------\n",
    "    IPI est l'IPI du jour en cours\n",
    "    ICD est l'ICD du jour en cours'''\n",
    "\n",
    "    if ICD <= 80.0:\n",
    "        I = 0.626 * pow(ICD, 0.809) + 2.0\n",
    "    else:\n",
    "        I = 1000.0 / (25.0 + 108.64 * math.exp(-0.023 * ICD))\n",
    "\n",
    "    return 0.1 * IPI * I"
   ]
  },
  {
   "cell_type": "markdown",
   "metadata": {
    "id": "Gp8lCWknQYR7"
   },
   "source": [
    "**Calcul de l'IFM final**"
   ]
  },
  {
   "cell_type": "code",
   "execution_count": 16,
   "metadata": {
    "id": "zcVd5nwapF4p"
   },
   "outputs": [],
   "source": [
    "def calcIFM(MONTH,T,H,FF,RR,ICLPrev,IHPrev,ISPrev,LAT):\n",
    "    '''Calcule le IFM d'aujourd'hui\n",
    "    PARAMÈTRES\n",
    "    ----------\n",
    "    MONTH est le mois numérique, de 1 à 12\n",
    "    T est la température de 12:00 LST en degrés Celsius\n",
    "    H est l'humidité relative de 12:00 LST en %\n",
    "    FF est la vitesse du vent à 12:00 LST en km/h\n",
    "    RAIN est la pluviométrie cumulée sur 24 heures en mm, calculée à 12h00 LST\n",
    "    ICLPrev est le ICL de la veille\n",
    "    IHPrev est le IH de la veille\n",
    "    ISPrev est le IS de la veille\n",
    "    LAT est la latitude en degrés décimaux de l'emplacement pour lequel les calculs sont effectués'''\n",
    "\n",
    "    icl = ICL(T,H,FF,RR,mo)\n",
    "    ih  = IH(T,H,RR,mo, IH0,MONTH)\n",
    "    iss = IS(T,RR,Q0,MONTH)\n",
    "    ipi = IPI(FF, icl)\n",
    "    icd = ICD(ih,iss)\n",
    "    ifm = IFM(ipi, icd)\n",
    "\n",
    "    return ifm"
   ]
  },
  {
   "cell_type": "code",
   "execution_count": 17,
   "metadata": {},
   "outputs": [
    {
     "name": "stdout",
     "output_type": "stream",
     "text": [
      "liseFichiers= ['C:/Users/Zaineb/Desktop/METEO/PFE/new_data', [], ['arome_2021010100.xlsx', 'arome_2021010200.xlsx', 'arome_2021010300.xlsx', 'arome_2021010400.xlsx', 'arome_2021010500.xlsx', 'arome_2021072300.xlsx', 'arome_2021072400.xlsx', 'arome_2021080300.xlsx', 'arome_2021081700.xlsx']]\n"
     ]
    }
   ],
   "source": [
    "t1=\"C:/Users/Zaineb/Desktop/METEO/PFE/new_data\"\n",
    "listeFichiers = []\n",
    "for fichiers in walk(t1):\n",
    "    listeFichiers.extend(fichiers)\n",
    "L=listeFichiers[2]\n",
    "\n",
    "for i in range(len(L)) :\n",
    "    try:\n",
    "        df1=pd.read_excel(\"C:/Users/Zaineb/Desktop/METEO/PFE/new_data/\" + L[i])\n",
    "        t2=\"C:/Users/Zaineb/Desktop/METEO/PFE/Param\"\n",
    "        listeFichiers = []\n",
    "        for fichiers in walk(t2):\n",
    "            listeFichiers.extend(fichiers)\n",
    "        P=listeFichiers[2]\n",
    "        df2= pd.read_excel(\"C:/Users/Zaineb/Desktop/METEO/PFE/Param/\" + P[i])\n",
    "        t3=\"C:/Users/Zaineb/Desktop/METEO/PFE/OUTPUT\"\n",
    "        listeFichiers = []\n",
    "        for fichiers in walk(t3):\n",
    "            listeFichiers.extend(fichiers)\n",
    "        O=listeFichiers[2]        \n",
    "        df3= pd.read_csv(\"C:/Users/Zaineb/Desktop/METEO/PFE/OUTPUT/\" + O[i])\n",
    "        Date = L[i][6:-7]\n",
    "        df=df1.merge(df2, how= 'inner', on='STATION')\n",
    "        tab=[]\n",
    "        tab0=[]\n",
    "        for i in range(len(df2)):\n",
    "            stat= df2['STATION'][i]\n",
    "            p01= ICLF(df['MAXI(J)'][i], df['HRmax'][i],df['FFmax'][i], df['RRtot'][i], df['m0_ICL'][i])\n",
    "            p02= IHF(df['HRmax'][i], df['RRtot'][i], df['m0_IH'][i] , df3['IH'][i])\n",
    "            p03= ISF(df['RRtot'][i], df['Q0'][i])\n",
    "            tab0.append([stat,p01,p02,p03])\n",
    "            df2f = pd.DataFrame (tab0, columns = ['STATION','m0_ICL','m0_IH','Q0'])\n",
    "            df2f=df2f.set_index('STATION')\n",
    "            df2f.to_excel(\"C:/Users/Zaineb/Desktop/METEO/PFE/Param/\" + 'Param_'+Date+'00.xlsx')\n",
    "        for i in range(len(df)):\n",
    "            stat= df['STATION'][i]\n",
    "            p1= ICL(df['MAXI(J)'][i], df['HRmax'][i],df['FFmax'][i], df['RRtot'][i], df['m0_ICL'][i])\n",
    "            p2= IH(df['MAXI(J)'][i], df['HRmax'][i], df['RRtot'][i], df['m0_IH'][i] , df3['IH'][i]  , df['Month'][i])\n",
    "            p3= IS(df['MAXI(J)'][i], df['RRtot'][i], df['Q0'][i] , df['Month'][i])\n",
    "            p4= IPI(df['FFmax'][i], p1 )\n",
    "            p5= ICD(p2, p3 )\n",
    "            p6= IFM(p4,p5)\n",
    "            if p6 >=0 and p6 < 30:\n",
    "                p7= \"DANGER FAIBLE\"\n",
    "            if p6>=30 and p6 < 50:\n",
    "                p7= \"DANGER MODERE\"\n",
    "            if p6>=50 and p6 < 80:\n",
    "                p7= \"DANGER SEVERE\"\n",
    "            if p6>=80: \n",
    "                p7= \"DANGER TRES SEVERE\"\n",
    "                \n",
    "            tab.append([stat,p1,p2,p3,p4,p5,p6,p7])\n",
    "            dff = pd.DataFrame (tab, columns = ['STATION','ICL','IH','IS','IPI','ICD','IFM','CONCLUSION'])\n",
    "            dff=dff.set_index('STATION')\n",
    "            dff.to_excel(\"C:/Users/Zaineb/Desktop/METEO/PFE/OUTPUT/\" + 'Indices_'+Date+'00.xlsx')\n",
    "        \n",
    "    except IOError:\n",
    "        print(\"Erreur ! Le fichier n'existe pas encore\")"
   ]
  }
 ],
 "metadata": {
  "colab": {
   "collapsed_sections": [],
   "name": "CALCUL IFM.ipynb",
   "provenance": []
  },
  "kernelspec": {
   "display_name": "Python 3",
   "language": "python",
   "name": "python3"
  },
  "language_info": {
   "codemirror_mode": {
    "name": "ipython",
    "version": 3
   },
   "file_extension": ".py",
   "mimetype": "text/x-python",
   "name": "python",
   "nbconvert_exporter": "python",
   "pygments_lexer": "ipython3",
   "version": "3.8.5"
  }
 },
 "nbformat": 4,
 "nbformat_minor": 1
}
